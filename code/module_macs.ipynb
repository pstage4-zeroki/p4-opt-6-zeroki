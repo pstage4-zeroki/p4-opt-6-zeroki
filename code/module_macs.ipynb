{
 "cells": [
  {
   "cell_type": "code",
   "execution_count": 1,
   "id": "a7357484-7ad2-4b37-9e17-98fb23bd32c1",
   "metadata": {},
   "outputs": [],
   "source": [
    "from src.dataloader import create_dataloader\n",
    "from src.loss import CustomCriterion\n",
    "from src.model import Model\n",
    "from src.trainer import TorchTrainer\n",
    "from src.utils.common import get_label_counts, read_yaml\n",
    "from src.utils.macs import calc_macs\n",
    "from src.utils.torch_utils import check_runtime, model_info, seed_everything\n",
    "import yaml"
   ]
  },
  {
   "cell_type": "code",
   "execution_count": 2,
   "id": "fd060f10-1a72-4d83-a97f-1955b3eeb85e",
   "metadata": {},
   "outputs": [
    {
     "name": "stdout",
     "output_type": "stream",
     "text": [
      "{'input_channel': 4, 'depth_multiple': 1.0, 'width_multiple': 1.0, 'backbone': [[1, 'Conv', [6, 5, 1, 0]], [1, 'MaxPool', [2]], [1, 'Conv', [16, 5, 1, 0]], [1, 'MaxPool', [2]], [1, 'GlobalAvgPool', []], [1, 'Flatten', []], [1, 'Linear', [120, 'ReLU']], [1, 'Linear', [84, 'ReLU']], [1, 'Linear', [9]]]}\n"
     ]
    }
   ],
   "source": [
    "model_config = read_yaml(\"configs/model/example.yaml\")\n",
    "in_channel = 4\n",
    "output_channel = 36\n",
    "dummy_input = (in_channel,96,96)\n",
    "model_config[\"input_channel\"] = in_channel\n",
    "print(model_config)\n",
    "macs = []\n",
    "moduel_names = []"
   ]
  },
  {
   "cell_type": "code",
   "execution_count": 3,
   "id": "dd204b27-f585-4601-ac3e-2076a0141aa8",
   "metadata": {},
   "outputs": [
    {
     "name": "stdout",
     "output_type": "stream",
     "text": [
      "[[1, 'Conv', [36, 3, 1, 0, 1, 'ReLU']]]\n",
      "Conv 14008320.0\n"
     ]
    }
   ],
   "source": [
    "module_name1 = \"Conv\"\n",
    "module_args1 = [output_channel, 3, 1, 0, 1, \"ReLU\"]\n",
    "\n",
    "model_config[\"backbone\"] = [[1,module_name1,module_args1]]\n",
    "print(model_config[\"backbone\"])\n",
    "model = Model(model_config)\n",
    "\n",
    "conv_macs = calc_macs(model,dummy_input)\n",
    "macs.append(conv_macs)\n",
    "moduel_names.append(module_name1)\n",
    "print(module_name1,conv_macs)"
   ]
  },
  {
   "cell_type": "code",
   "execution_count": 4,
   "id": "e3f89244-7fad-4a3b-873d-8f7a098130bd",
   "metadata": {},
   "outputs": [
    {
     "name": "stdout",
     "output_type": "stream",
     "text": [
      "[[1, 'DWConv', [36, 3, 1, 0, 'HardSwish']]]\n",
      "DWConv 4055040.0\n"
     ]
    }
   ],
   "source": [
    "module_name1 = \"DWConv\"\n",
    "module_args1 = [output_channel, 3, 1, 0, \"HardSwish\"]\n",
    "\n",
    "model_config[\"backbone\"] = [[1,module_name1,module_args1]]\n",
    "print(model_config[\"backbone\"])\n",
    "model = Model(model_config)\n",
    "\n",
    "dwconv_macs = calc_macs(model,dummy_input)\n",
    "macs.append(dwconv_macs)\n",
    "moduel_names.append(module_name1)\n",
    "print(module_name1,dwconv_macs)"
   ]
  },
  {
   "cell_type": "code",
   "execution_count": 5,
   "id": "5780952a-8a7c-461a-90e4-8b734f21996f",
   "metadata": {},
   "outputs": [
    {
     "name": "stdout",
     "output_type": "stream",
     "text": [
      "[[1, 'InvertedResidualv2', [36, 3.0, 1]]]\n",
      "InvertedResidualv2 7041024.0\n"
     ]
    }
   ],
   "source": [
    "module_name1 = \"InvertedResidualv2\"\n",
    "expand_ratio = 3.0\n",
    "module_args1 = [output_channel, expand_ratio, 1]\n",
    "\n",
    "model_config[\"backbone\"] = [[1,module_name1,module_args1]]\n",
    "print(model_config[\"backbone\"])\n",
    "model = Model(model_config)\n",
    "\n",
    "invertedV2_macs = calc_macs(model,dummy_input)\n",
    "macs.append(invertedV2_macs)\n",
    "moduel_names.append(module_name1)\n",
    "print(module_name1,invertedV2_macs)"
   ]
  },
  {
   "cell_type": "code",
   "execution_count": 6,
   "id": "d6d7bc18-bf55-4c6b-9911-421a4bdf2270",
   "metadata": {},
   "outputs": [
    {
     "name": "stdout",
     "output_type": "stream",
     "text": [
      "[[1, 'InvertedResidualv3', [3, 3.0, 36, 0, 0, 1]]]\n",
      "vanilla InvertedV3\n",
      "9142272.0\n"
     ]
    }
   ],
   "source": [
    "module_name1 = \"InvertedResidualv3\"\n",
    "expand_ratio = 3.0\n",
    "module_args1 = [3, expand_ratio, output_channel, 0, 0, 1]\n",
    "\n",
    "model_config[\"backbone\"] = [[1,module_name1,module_args1]]\n",
    "print(model_config[\"backbone\"])\n",
    "model = Model(model_config)\n",
    "\n",
    "invertedV3_macs = calc_macs(model,dummy_input)\n",
    "macs.append(invertedV3_macs)\n",
    "moduel_names.append(module_name1)\n",
    "print(\"vanilla InvertedV3\")\n",
    "print(invertedV3_macs)"
   ]
  },
  {
   "cell_type": "code",
   "execution_count": 7,
   "id": "12d045d2-45c5-4e85-a0df-a62023be2e2c",
   "metadata": {},
   "outputs": [
    {
     "name": "stdout",
     "output_type": "stream",
     "text": [
      "[[1, 'InvertedResidualv3', [3, 3.0, 36, 1, 0, 1]]]\n",
      "InvertedV3 with SE\n",
      "9142552.0\n"
     ]
    }
   ],
   "source": [
    "module_name1 = \"InvertedResidualv3\"\n",
    "expand_ratio = 3.0\n",
    "module_args1 = [3, expand_ratio, output_channel, 1, 0, 1]\n",
    "\n",
    "model_config[\"backbone\"] = [[1,module_name1,module_args1]]\n",
    "print(model_config[\"backbone\"])\n",
    "model = Model(model_config)\n",
    "\n",
    "invertedV3_SE_macs = calc_macs(model,dummy_input)\n",
    "macs.append(invertedV3_SE_macs)\n",
    "moduel_names.append(module_name1+\"_SE\")\n",
    "print(\"InvertedV3 with SE\")\n",
    "print(invertedV3_SE_macs)"
   ]
  },
  {
   "cell_type": "code",
   "execution_count": 8,
   "id": "108db666-17b7-4f93-82b5-4fec866feb7f",
   "metadata": {},
   "outputs": [
    {
     "name": "stdout",
     "output_type": "stream",
     "text": [
      "[[1, 'InvertedResidualv3', [3, 3.0, 36, 0, 1, 1]]]\n",
      "InvertedV3 with HS\n",
      "9142272.0\n"
     ]
    }
   ],
   "source": [
    "module_name1 = \"InvertedResidualv3\"\n",
    "expand_ratio = 3.0\n",
    "module_args1 = [3, expand_ratio, output_channel, 0, 1, 1]\n",
    "\n",
    "model_config[\"backbone\"] = [[1,module_name1,module_args1]]\n",
    "print(model_config[\"backbone\"])\n",
    "model = Model(model_config)\n",
    "\n",
    "invertedV3_HS_macs = calc_macs(model,dummy_input)\n",
    "macs.append(invertedV3_HS_macs)\n",
    "moduel_names.append(module_name1+\"_HE\")\n",
    "print(\"InvertedV3 with HS\")\n",
    "print(invertedV3_HS_macs)"
   ]
  },
  {
   "cell_type": "code",
   "execution_count": 9,
   "id": "d54a48d7-e591-4528-a60b-997078b616e3",
   "metadata": {},
   "outputs": [
    {
     "name": "stdout",
     "output_type": "stream",
     "text": [
      "[[1, 'InvertedResidualv3', [3, 3.0, 36, 1, 1, 1]]]\n",
      "InvertedV3 with SE, HS\n",
      "9142552.0\n"
     ]
    }
   ],
   "source": [
    "module_name1 = \"InvertedResidualv3\"\n",
    "expand_ratio = 3.0\n",
    "module_args1 = [3, expand_ratio, output_channel, 1, 1, 1]\n",
    "\n",
    "model_config[\"backbone\"] = [[1,module_name1,module_args1]]\n",
    "print(model_config[\"backbone\"])\n",
    "model = Model(model_config)\n",
    "\n",
    "invertedV3_SE_HS_macs = calc_macs(model,dummy_input)\n",
    "macs.append(invertedV3_SE_HS_macs)\n",
    "moduel_names.append(module_name1+\"_SE_HS\")\n",
    "print(\"InvertedV3 with SE, HS\")\n",
    "print(invertedV3_SE_HS_macs)"
   ]
  },
  {
   "cell_type": "code",
   "execution_count": 10,
   "id": "c7a9658d-2695-4272-849b-a60fbb355020",
   "metadata": {},
   "outputs": [
    {
     "name": "stdout",
     "output_type": "stream",
     "text": [
      "[[1, 'MBConv', [3, 36, 1, 3]]]\n",
      "MBConv 7151653.0\n"
     ]
    }
   ],
   "source": [
    "module_name1 = \"MBConv\"\n",
    "expand_ratio = 3\n",
    "module_args1 = [expand_ratio, output_channel, 1, 3]\n",
    "\n",
    "model_config[\"backbone\"] = [[1,module_name1,module_args1]]\n",
    "print(model_config[\"backbone\"])\n",
    "model = Model(model_config)\n",
    "\n",
    "MBConv_macs = calc_macs(model,dummy_input)\n",
    "macs.append(MBConv_macs)\n",
    "moduel_names.append(module_name1)\n",
    "print(module_name1,MBConv_macs)"
   ]
  },
  {
   "cell_type": "code",
   "execution_count": 11,
   "id": "0e969da6-fe2c-4ea0-81c0-8eee36e08193",
   "metadata": {},
   "outputs": [
    {
     "name": "stdout",
     "output_type": "stream",
     "text": [
      "[[1, 'FusedMBConv', [3, 36, 1, 3]]]\n",
      "FusedMBConv 7151653.0\n"
     ]
    }
   ],
   "source": [
    "module_name1 = \"FusedMBConv\"\n",
    "expand_ratio = 3\n",
    "module_args1 = [expand_ratio, output_channel, 1, 3]\n",
    "\n",
    "model_config[\"backbone\"] = [[1,module_name1,module_args1]]\n",
    "print(model_config[\"backbone\"])\n",
    "model = Model(model_config)\n",
    "\n",
    "FusedMBConv_macs = calc_macs(model,dummy_input)\n",
    "macs.append(FusedMBConv_macs)\n",
    "moduel_names.append(module_name1)\n",
    "print(module_name1,MBConv_macs)"
   ]
  },
  {
   "cell_type": "code",
   "execution_count": 12,
   "id": "65eb7aef-e62e-4778-9cd1-d28e0764a138",
   "metadata": {},
   "outputs": [
    {
     "name": "stdout",
     "output_type": "stream",
     "text": [
      "[[1, 'ShuffleNetV2', [48, 1]]]\n",
      "ShuffleNetV2 350208.0\n"
     ]
    }
   ],
   "source": [
    "module_name1 = \"ShuffleNetV2\"\n",
    "module_args1 = [48, 1]\n",
    "\n",
    "model_config[\"backbone\"] = [[1,module_name1,module_args1]]\n",
    "print(model_config[\"backbone\"])\n",
    "model = Model(model_config)\n",
    "ShuffleNetV2v_macs = calc_macs(model,dummy_input)\n",
    "macs.append(ShuffleNetV2v_macs)\n",
    "moduel_names.append(module_name1)\n",
    "print(module_name1,ShuffleNetV2v_macs)"
   ]
  },
  {
   "cell_type": "code",
   "execution_count": 13,
   "id": "472bc947-718e-4f60-8ef6-236bd51b015d",
   "metadata": {},
   "outputs": [
    {
     "name": "stdout",
     "output_type": "stream",
     "text": [
      "[[1, 'AvgPool', [2, 2, 0]]]\n",
      "AvgPool 36864.0\n"
     ]
    }
   ],
   "source": [
    "module_name1 = \"AvgPool\"\n",
    "module_args1 = [2, 2, 0]\n",
    "\n",
    "model_config[\"backbone\"] = [[1,module_name1,module_args1]]\n",
    "print(model_config[\"backbone\"])\n",
    "model = Model(model_config)\n",
    "AvgPool_macs = calc_macs(model,dummy_input)\n",
    "macs.append(AvgPool_macs)\n",
    "moduel_names.append(module_name1)\n",
    "print(module_name1,AvgPool_macs)"
   ]
  },
  {
   "cell_type": "code",
   "execution_count": 14,
   "id": "fefe2d9d-7bdd-4b31-bd7d-cb6cedfba00b",
   "metadata": {},
   "outputs": [
    {
     "name": "stdout",
     "output_type": "stream",
     "text": [
      "[[1, 'MaxPool', [2, 2, 0]]]\n",
      "MaxPool 36864.0\n"
     ]
    }
   ],
   "source": [
    "module_name1 = \"MaxPool\"\n",
    "module_args1 = [2, 2, 0]\n",
    "\n",
    "model_config[\"backbone\"] = [[1,module_name1,module_args1]]\n",
    "print(model_config[\"backbone\"])\n",
    "model = Model(model_config)\n",
    "\n",
    "MaxPool_macs = calc_macs(model,dummy_input)\n",
    "macs.append(MaxPool_macs)\n",
    "moduel_names.append(module_name1)\n",
    "print(module_name1,AvgPool_macs)"
   ]
  },
  {
   "cell_type": "code",
   "execution_count": 15,
   "id": "922c9995-6f56-4e32-b199-9c7fe5bc9ae3",
   "metadata": {},
   "outputs": [
    {
     "name": "stdout",
     "output_type": "stream",
     "text": [
      "[[1, 'GlobalAvgPool', []]]\n",
      "GlobalAvgPool 0.0\n"
     ]
    }
   ],
   "source": [
    "module_name1 = \"GlobalAvgPool\"\n",
    "module_args1 = []\n",
    "\n",
    "model_config[\"backbone\"] = [[1,module_name1,module_args1]]\n",
    "print(model_config[\"backbone\"])\n",
    "model = Model(model_config)\n",
    "\n",
    "GlobalAvg_macs = calc_macs(model,dummy_input)\n",
    "macs.append(GlobalAvg_macs)\n",
    "moduel_names.append(module_name1)\n",
    "print(module_name1,GlobalAvg_macs)"
   ]
  },
  {
   "cell_type": "code",
   "execution_count": 16,
   "id": "7bb54569-ead0-478f-a0b6-b185feac5b25",
   "metadata": {},
   "outputs": [],
   "source": [
    "import matplotlib.pyplot as plt"
   ]
  },
  {
   "cell_type": "code",
   "execution_count": 17,
   "id": "887daecf-05de-4b9a-bd5f-e938cec3ced7",
   "metadata": {},
   "outputs": [
    {
     "name": "stdout",
     "output_type": "stream",
     "text": [
      "[14008320.0, 4055040.0, 7041024.0, 9142272.0, 9142552.0, 9142272.0, 9142552.0, 7151653.0, 9363456.0, 350208.0, 36864.0, 36864.0, 0.0]\n",
      "['Conv', 'DWConv', 'InvertedResidualv2', 'InvertedResidualv3', 'InvertedResidualv3_SE', 'InvertedResidualv3_HE', 'InvertedResidualv3_SE_HS', 'MBConv', 'FusedMBConv', 'ShuffleNetV2', 'AvgPool', 'MaxPool', 'GlobalAvgPool']\n"
     ]
    }
   ],
   "source": [
    "index = list(range(len(macs)))\n",
    "print(macs)\n",
    "print(moduel_names)"
   ]
  },
  {
   "cell_type": "code",
   "execution_count": null,
   "id": "afea9a3c-8cc8-40b5-b7aa-01abfa7f55c8",
   "metadata": {},
   "outputs": [],
   "source": []
  },
  {
   "cell_type": "code",
   "execution_count": 18,
   "id": "a311473e-f39d-47e9-a62d-59e6345a76fc",
   "metadata": {},
   "outputs": [
    {
     "data": {
      "image/png": "[encoded data removed]",
      "text/plain": [
       "<Figure size 432x288 with 1 Axes>"
      ]
     },
     "metadata": {
      "needs_background": "light"
     },
     "output_type": "display_data"
    }
   ],
   "source": [
    "plt.barh(moduel_names[:-3],macs[:-3],height=0.5)\n",
    "plt.show()"
   ]
  },
  {
   "cell_type": "code",
   "execution_count": 19,
   "id": "2daa294c-1dbf-413a-9bc5-55e12c7ac153",
   "metadata": {},
   "outputs": [
    {
     "data": {
      "image/png": "[encoded data removed]",
      "text/plain": [
       "<Figure size 432x288 with 1 Axes>"
      ]
     },
     "metadata": {
      "needs_background": "light"
     },
     "output_type": "display_data"
    }
   ],
   "source": [
    "plt.barh(moduel_names[-3:],macs[-3:],height=0.5)\n",
    "plt.show()"
   ]
  }
 ],
 "metadata": {
  "kernelspec": {
   "display_name": "Python 3",
   "language": "python",
   "name": "python3"
  },
  "language_info": {
   "codemirror_mode": {
    "name": "ipython",
    "version": 3
   },
   "file_extension": ".py",
   "mimetype": "text/x-python",
   "name": "python",
   "nbconvert_exporter": "python",
   "pygments_lexer": "ipython3",
   "version": "3.8.5"
  }
 },
 "nbformat": 4,
 "nbformat_minor": 5
}
