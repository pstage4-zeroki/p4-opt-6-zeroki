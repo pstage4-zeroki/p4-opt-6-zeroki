{
 "cells": [
  {
   "cell_type": "code",
   "execution_count": 5,
   "id": "324edc09-85fe-4a97-a87f-b41479e2a139",
   "metadata": {},
   "outputs": [],
   "source": [
    "import cv2\n",
    "import os\n",
    "import matplotlib.pyplot as plt\n",
    "import random"
   ]
  },
  {
   "cell_type": "code",
   "execution_count": 6,
   "id": "9e6a4be3-6d55-47cf-9427-ac200f3af8d4",
   "metadata": {},
   "outputs": [],
   "source": [
    "root = os.path.join(\"/opt/ml\",\"input\",\"data\",\"train\")\n",
    "target = os.path.join(\"/opt/ml\",\"input\",\"png\",\"train\")\n",
    "random.seed(1)\n",
    "\n",
    "\n",
    "if not os.path.exists(os.path.join(\"/opt/ml\",\"input\",\"png\")):\n",
    "    os.mkdir(os.path.join(\"/opt/ml\",\"input\",\"png\"))\n",
    "if not os.path.exists(os.path.join(\"/opt/ml\",\"input\",\"png\",\"train\")):\n",
    "    os.mkdir(os.path.join(\"/opt/ml\",\"input\",\"png\",\"train\"))\n",
    "\n",
    "for class_name in os.listdir(root):\n",
    "    if not os.path.exists(os.path.join(target,class_name)):\n",
    "        os.mkdir(os.path.join(target,class_name))\n",
    "        \n",
    "    img_list = os.listdir(os.path.join(root,class_name))\n",
    "    sampling_img = random.sample(img_list,int(len(img_list)*0.5))\n",
    "    \n",
    "    for img in sampling_img:\n",
    "        if img == \".ipynb_checkpoints\":\n",
    "            continue\n",
    "        origin_path = os.path.join(root,class_name,img)\n",
    "        target_path = os.path.join(target,class_name,img.replace(\"jpg\",\"png\"))\n",
    "        if not os.path.exists(target_path):\n",
    "            print(origin_path)\n",
    "            print(target_path)\n",
    "            jpg = cv2.imread(os.path.join(root,class_name,img))\n",
    "            cv2.imwrite(target_path,jpg)\n",
    "        "
   ]
  }
 ],
 "metadata": {
  "kernelspec": {
   "display_name": "Python 3",
   "language": "python",
   "name": "python3"
  },
  "language_info": {
   "codemirror_mode": {
    "name": "ipython",
    "version": 3
   },
   "file_extension": ".py",
   "mimetype": "text/x-python",
   "name": "python",
   "nbconvert_exporter": "python",
   "pygments_lexer": "ipython3",
   "version": "3.8.5"
  }
 },
 "nbformat": 4,
 "nbformat_minor": 5
}
